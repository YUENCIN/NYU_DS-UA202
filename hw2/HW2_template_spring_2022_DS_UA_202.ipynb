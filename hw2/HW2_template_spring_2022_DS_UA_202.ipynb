{
 "cells": [
  {
   "cell_type": "markdown",
   "metadata": {
    "id": "rmoZ7PnaFdYv"
   },
   "source": [
    "**RDS (DS-UA 202) Spring 2022: Homework 2 Template**\n",
    "\n",
    "This notebook is a template for problem 3. You should save a copy of this notebook and write your code in that copy. The code to setup the analysis is provided for you here. You should not edit or add to the setup code.\n",
    "\n",
    "Some suggested steps are included as comments in the below code cells. You do not need to follow these (other reasonable solutions or approaches are acceptable)."
   ]
  },
  {
   "cell_type": "markdown",
   "source": [
    "# Setup\n",
    "\n",
    "Make sure you run all cells in the setup section. Do not modify any code in this section."
   ],
   "metadata": {
    "id": "48xT_WfoVW7m"
   }
  },
  {
   "cell_type": "code",
   "execution_count": 1,
   "metadata": {
    "id": "1VR_j1uKFdY0",
    "colab": {
     "base_uri": "https://localhost:8080/"
    },
    "outputId": "b98a44b2-62b5-451b-9f85-0fc7a415d0cb"
   },
   "outputs": [
    {
     "name": "stdout",
     "output_type": "stream",
     "text": [
      "Looking in indexes: https://pypi.tuna.tsinghua.edu.cn/simple\r\n",
      "Requirement already satisfied: DataSynthesizer in /Users/luohaochen/opt/anaconda3/lib/python3.8/site-packages (0.1.11)\r\n",
      "Requirement already satisfied: pandas>=1.0.5 in /Users/luohaochen/opt/anaconda3/lib/python3.8/site-packages (from DataSynthesizer) (1.3.3)\r\n",
      "Requirement already satisfied: seaborn>=0.10.1 in /Users/luohaochen/opt/anaconda3/lib/python3.8/site-packages (from DataSynthesizer) (0.11.1)\r\n",
      "Requirement already satisfied: python-dateutil>=2.8.1 in /Users/luohaochen/opt/anaconda3/lib/python3.8/site-packages (from DataSynthesizer) (2.8.1)\r\n",
      "Requirement already satisfied: scikit-learn>=0.23.1 in /Users/luohaochen/opt/anaconda3/lib/python3.8/site-packages (from DataSynthesizer) (0.24.1)\r\n",
      "Requirement already satisfied: matplotlib>=3.2.2 in /Users/luohaochen/opt/anaconda3/lib/python3.8/site-packages (from DataSynthesizer) (3.3.4)\r\n",
      "Requirement already satisfied: numpy>=1.18.5 in /Users/luohaochen/opt/anaconda3/lib/python3.8/site-packages (from DataSynthesizer) (1.20.1)\r\n",
      "Requirement already satisfied: pyparsing!=2.0.4,!=2.1.2,!=2.1.6,>=2.0.3 in /Users/luohaochen/opt/anaconda3/lib/python3.8/site-packages (from matplotlib>=3.2.2->DataSynthesizer) (2.4.7)\r\n",
      "Requirement already satisfied: kiwisolver>=1.0.1 in /Users/luohaochen/opt/anaconda3/lib/python3.8/site-packages (from matplotlib>=3.2.2->DataSynthesizer) (1.3.1)\r\n",
      "Requirement already satisfied: pillow>=6.2.0 in /Users/luohaochen/opt/anaconda3/lib/python3.8/site-packages (from matplotlib>=3.2.2->DataSynthesizer) (8.2.0)\r\n",
      "Requirement already satisfied: cycler>=0.10 in /Users/luohaochen/opt/anaconda3/lib/python3.8/site-packages (from matplotlib>=3.2.2->DataSynthesizer) (0.10.0)\r\n",
      "Requirement already satisfied: six in /Users/luohaochen/opt/anaconda3/lib/python3.8/site-packages (from cycler>=0.10->matplotlib>=3.2.2->DataSynthesizer) (1.15.0)\r\n",
      "Requirement already satisfied: pytz>=2017.3 in /Users/luohaochen/opt/anaconda3/lib/python3.8/site-packages (from pandas>=1.0.5->DataSynthesizer) (2021.1)\r\n",
      "Requirement already satisfied: joblib>=0.11 in /Users/luohaochen/opt/anaconda3/lib/python3.8/site-packages (from scikit-learn>=0.23.1->DataSynthesizer) (1.0.1)\r\n",
      "Requirement already satisfied: threadpoolctl>=2.0.0 in /Users/luohaochen/opt/anaconda3/lib/python3.8/site-packages (from scikit-learn>=0.23.1->DataSynthesizer) (2.1.0)\r\n",
      "Requirement already satisfied: scipy>=0.19.1 in /Users/luohaochen/opt/anaconda3/lib/python3.8/site-packages (from scikit-learn>=0.23.1->DataSynthesizer) (1.6.2)\r\n"
     ]
    }
   ],
   "source": [
    "!pip install DataSynthesizer"
   ]
  },
  {
   "cell_type": "code",
   "execution_count": 2,
   "metadata": {
    "id": "yd3BwlQ1FdZD"
   },
   "outputs": [],
   "source": [
    "from DataSynthesizer.DataDescriber import DataDescriber\n",
    "from DataSynthesizer.DataGenerator import DataGenerator\n",
    "from DataSynthesizer.ModelInspector import ModelInspector\n",
    "from DataSynthesizer.lib.utils import normalize_given_distribution, read_json_file, pairwise_attributes_mutual_information, mutual_information, set_random_seed\n",
    "\n",
    "from IPython.display import clear_output\n",
    "from scipy.stats import entropy, ks_2samp\n",
    "from scipy.spatial.distance import euclidean\n",
    "from sklearn.metrics import mutual_info_score\n",
    "from random import randint\n",
    "import pandas as pd\n",
    "import matplotlib.pyplot as plt\n",
    "import seaborn as sns\n",
    "%matplotlib inline"
   ]
  },
  {
   "cell_type": "code",
   "execution_count": 3,
   "metadata": {
    "id": "M6YGhJ8yFdZO"
   },
   "outputs": [],
   "source": [
    "def generate_data_A(input_data_file, output_data_size, seed=None):\n",
    "    seed = seed or randint(0, 2**30)\n",
    "    description_file = description_files['A']\n",
    "    \n",
    "    describer = DataDescriber()\n",
    "    describer.describe_dataset_in_random_mode(input_data_file, seed=seed)\n",
    "    describer.save_dataset_description_to_file(description_file)\n",
    "    \n",
    "    generator = DataGenerator()\n",
    "    generator.generate_dataset_in_random_mode(output_data_size, description_file, seed=seed)\n",
    "    return generator.synthetic_dataset"
   ]
  },
  {
   "cell_type": "code",
   "execution_count": 4,
   "metadata": {
    "id": "_ucdJfUuFdZe"
   },
   "outputs": [],
   "source": [
    "def generate_data_B(input_data_file, output_data_size, epsilon=0.1, seed=None):\n",
    "    seed = seed or randint(0, 2**30)\n",
    "    description_file = description_files['B']\n",
    "    \n",
    "    describer = DataDescriber()\n",
    "    describer.describe_dataset_in_independent_attribute_mode(input_data_file, epsilon=epsilon, seed=seed)\n",
    "    describer.save_dataset_description_to_file(description_file)\n",
    "    \n",
    "    generator = DataGenerator()\n",
    "    generator.generate_dataset_in_independent_mode(output_data_size, description_file, seed=seed)\n",
    "    return generator.synthetic_dataset"
   ]
  },
  {
   "cell_type": "code",
   "execution_count": 5,
   "metadata": {
    "id": "AiO-8_CPFdZj"
   },
   "outputs": [],
   "source": [
    "def generate_data_CD(input_data_file, output_data_size, description_file, epsilon=0.5, k=1, seed=None):\n",
    "    seed = seed or randint(0, 2**30)\n",
    "    \n",
    "    describer = DataDescriber()\n",
    "    describer.describe_dataset_in_correlated_attribute_mode(input_data_file, k=k, epsilon=epsilon, seed=seed)\n",
    "    describer.save_dataset_description_to_file(description_file)\n",
    "    \n",
    "    generator = DataGenerator()\n",
    "    generator.generate_dataset_in_correlated_attribute_mode(output_data_size, description_file, seed=seed)\n",
    "    return generator.synthetic_dataset\n",
    "\n",
    "def generate_data_C(input_data_file, output_data_size, epsilon=0.1, seed=None):\n",
    "    return generate_data_CD(input_data_file, output_data_size, description_files['C'], epsilon, k=1, seed=seed)\n",
    "\n",
    "def generate_data_D(input_data_file, output_data_size, epsilon=0.1, seed=None):\n",
    "    return generate_data_CD(input_data_file, output_data_size, description_files['D'], epsilon, k=2, seed=seed)"
   ]
  },
  {
   "cell_type": "markdown",
   "metadata": {
    "id": "_ZaByotmFdZo"
   },
   "source": [
    "Start with a real dataset __hw_compas__ and a fake dataset __hw_fake__. Generate synthetic datasets of size __N=10000__, in the following four categories:\n",
    "- A:  random mode\n",
    "- B: independent attribute mode with __epsilon = 0.1__\n",
    "- C:  correlated attribute mode with __epsilon = 0.1__, Bayes net degree k=1\n",
    "- D: correlated attribute mode with __epsilon = 0.1__, Bayes net degree k=2"
   ]
  },
  {
   "cell_type": "code",
   "execution_count": 6,
   "metadata": {
    "id": "GXqw1Tjl3kdb"
   },
   "outputs": [
    {
     "ename": "ModuleNotFoundError",
     "evalue": "No module named 'google.colab'",
     "output_type": "error",
     "traceback": [
      "\u001B[0;31m---------------------------------------------------------------------------\u001B[0m",
      "\u001B[0;31mModuleNotFoundError\u001B[0m                       Traceback (most recent call last)",
      "\u001B[0;32m<ipython-input-6-e223c59ba25a>\u001B[0m in \u001B[0;36m<module>\u001B[0;34m\u001B[0m\n\u001B[1;32m      4\u001B[0m \u001B[0;32mfrom\u001B[0m \u001B[0mpydrive\u001B[0m\u001B[0;34m.\u001B[0m\u001B[0mauth\u001B[0m \u001B[0;32mimport\u001B[0m \u001B[0mGoogleAuth\u001B[0m\u001B[0;34m\u001B[0m\u001B[0;34m\u001B[0m\u001B[0m\n\u001B[1;32m      5\u001B[0m \u001B[0;32mfrom\u001B[0m \u001B[0mpydrive\u001B[0m\u001B[0;34m.\u001B[0m\u001B[0mdrive\u001B[0m \u001B[0;32mimport\u001B[0m \u001B[0mGoogleDrive\u001B[0m\u001B[0;34m\u001B[0m\u001B[0;34m\u001B[0m\u001B[0m\n\u001B[0;32m----> 6\u001B[0;31m \u001B[0;32mfrom\u001B[0m \u001B[0mgoogle\u001B[0m\u001B[0;34m.\u001B[0m\u001B[0mcolab\u001B[0m \u001B[0;32mimport\u001B[0m \u001B[0mauth\u001B[0m\u001B[0;34m\u001B[0m\u001B[0;34m\u001B[0m\u001B[0m\n\u001B[0m\u001B[1;32m      7\u001B[0m \u001B[0;32mfrom\u001B[0m \u001B[0moauth2client\u001B[0m\u001B[0;34m.\u001B[0m\u001B[0mclient\u001B[0m \u001B[0;32mimport\u001B[0m \u001B[0mGoogleCredentials\u001B[0m\u001B[0;34m\u001B[0m\u001B[0;34m\u001B[0m\u001B[0m\n\u001B[1;32m      8\u001B[0m \u001B[0;34m\u001B[0m\u001B[0m\n",
      "\u001B[0;31mModuleNotFoundError\u001B[0m: No module named 'google.colab'"
     ]
    }
   ],
   "source": [
    "# Packages for reading csv file into Colaboratory:\n",
    "!pip install -U -q PyDrive==1.3.1\n",
    "\n",
    "from pydrive.auth import GoogleAuth\n",
    "from pydrive.drive import GoogleDrive\n",
    "from google.colab import auth\n",
    "from oauth2client.client import GoogleCredentials\n",
    "\n",
    "# Authenticate and create the PyDrive client. \n",
    "# Please follow the steps as instructed when you run the following commands. \n",
    "\n",
    "auth.authenticate_user()\n",
    "gauth = GoogleAuth()\n",
    "gauth.credentials = GoogleCredentials.get_application_default()\n",
    "drive = GoogleDrive(gauth)"
   ]
  },
  {
   "cell_type": "code",
   "execution_count": 7,
   "metadata": {
    "id": "hecmLsCU3lsg"
   },
   "outputs": [],
   "source": [
    "fileid_compas = '1kgSIBkOM9y0nz_l8LI8ze9TAhF5gbb64'    \n",
    "real_data_file = 'hw_compas.csv'\n",
    "\n",
    "fileid_fake = '1b_T0SHQUMbVvZueZ6yXlxTKBHctMgM0k'    \n",
    "fake_data_file = 'hw_fake.csv'\n",
    "\n",
    "downloaded = drive.CreateFile({'id':fileid_compas}) \n",
    "downloaded.GetContentFile(real_data_file)  \n",
    "df_real = pd.read_csv(real_data_file)\n",
    "\n",
    "downloaded = drive.CreateFile({'id':fileid_fake}) \n",
    "downloaded.GetContentFile(fake_data_file)  \n",
    "df_fake = pd.read_csv(fake_data_file)"
   ]
  },
  {
   "cell_type": "code",
   "execution_count": 8,
   "metadata": {
    "id": "cwmlF9kRFdZp"
   },
   "outputs": [],
   "source": [
    "output_data_size = 10000\n",
    "epsilon = 0.1\n",
    "\n",
    "seed = 0  # make the entire notebook reproducible\n",
    "\n",
    "description_files = {'A': './descrption_A.json', \n",
    "                     'B': './descrption_B.json', \n",
    "                     'C': './descrption_C.json', \n",
    "                     'D': './descrption_D.json'}\n",
    "\n",
    "set_random_seed(seed)\n",
    "\n",
    "df_real_A = generate_data_A(real_data_file, output_data_size)\n",
    "df_real_B = generate_data_B(real_data_file, output_data_size, epsilon=epsilon)\n",
    "df_real_C = generate_data_C(real_data_file, output_data_size, epsilon=epsilon)\n",
    "df_real_D = generate_data_D(real_data_file, output_data_size, epsilon=epsilon)\n",
    "\n",
    "df_fake_A = generate_data_A(fake_data_file, output_data_size)\n",
    "df_fake_B = generate_data_B(fake_data_file, output_data_size, epsilon=epsilon)\n",
    "df_fake_C = generate_data_C(fake_data_file, output_data_size, epsilon=epsilon)\n",
    "df_fake_D = generate_data_D(fake_data_file, output_data_size, epsilon=epsilon)\n",
    "\n",
    "clear_output()"
   ]
  },
  {
   "cell_type": "markdown",
   "metadata": {
    "id": "9jSaXvMoFdZu"
   },
   "source": [
    "# Part (a)"
   ]
  },
  {
   "cell_type": "markdown",
   "metadata": {
    "id": "DyXI_gY_FdZx"
   },
   "source": [
    "## Q1\n",
    "\n",
    "Calculate the Median, Mean, Min, Max of __age__ and __score__ for each A, B, C and D. Compare to the ground truth values in __hw_compas__, present results in a table."
   ]
  },
  {
   "cell_type": "code",
   "execution_count": 9,
   "metadata": {
    "id": "1uMG1X8DFdZz",
    "colab": {
     "base_uri": "https://localhost:8080/",
     "height": 204
    },
    "outputId": "d16d2461-ec38-4324-fe0b-794af0c55406"
   },
   "outputs": [
    {
     "output_type": "execute_result",
     "data": {
      "text/plain": [
       "        Median      Mean  Min  Max\n",
       "Origin     4.0  4.371268   -1   10\n",
       "A          5.0  4.939200   -1   10\n",
       "B          4.0  4.365700    1   10\n",
       "C          5.0  4.948700   -1   10\n",
       "D          4.0  4.466000   -1   10"
      ],
      "text/html": [
       "\n",
       "  <div id=\"df-04d464b9-381f-4226-b298-284a146d7a2b\">\n",
       "    <div class=\"colab-df-container\">\n",
       "      <div>\n",
       "<style scoped>\n",
       "    .dataframe tbody tr th:only-of-type {\n",
       "        vertical-align: middle;\n",
       "    }\n",
       "\n",
       "    .dataframe tbody tr th {\n",
       "        vertical-align: top;\n",
       "    }\n",
       "\n",
       "    .dataframe thead th {\n",
       "        text-align: right;\n",
       "    }\n",
       "</style>\n",
       "<table border=\"1\" class=\"dataframe\">\n",
       "  <thead>\n",
       "    <tr style=\"text-align: right;\">\n",
       "      <th></th>\n",
       "      <th>Median</th>\n",
       "      <th>Mean</th>\n",
       "      <th>Min</th>\n",
       "      <th>Max</th>\n",
       "    </tr>\n",
       "  </thead>\n",
       "  <tbody>\n",
       "    <tr>\n",
       "      <th>Origin</th>\n",
       "      <td>4.0</td>\n",
       "      <td>4.371268</td>\n",
       "      <td>-1</td>\n",
       "      <td>10</td>\n",
       "    </tr>\n",
       "    <tr>\n",
       "      <th>A</th>\n",
       "      <td>5.0</td>\n",
       "      <td>4.939200</td>\n",
       "      <td>-1</td>\n",
       "      <td>10</td>\n",
       "    </tr>\n",
       "    <tr>\n",
       "      <th>B</th>\n",
       "      <td>4.0</td>\n",
       "      <td>4.365700</td>\n",
       "      <td>1</td>\n",
       "      <td>10</td>\n",
       "    </tr>\n",
       "    <tr>\n",
       "      <th>C</th>\n",
       "      <td>5.0</td>\n",
       "      <td>4.948700</td>\n",
       "      <td>-1</td>\n",
       "      <td>10</td>\n",
       "    </tr>\n",
       "    <tr>\n",
       "      <th>D</th>\n",
       "      <td>4.0</td>\n",
       "      <td>4.466000</td>\n",
       "      <td>-1</td>\n",
       "      <td>10</td>\n",
       "    </tr>\n",
       "  </tbody>\n",
       "</table>\n",
       "</div>\n",
       "      <button class=\"colab-df-convert\" onclick=\"convertToInteractive('df-04d464b9-381f-4226-b298-284a146d7a2b')\"\n",
       "              title=\"Convert this dataframe to an interactive table.\"\n",
       "              style=\"display:none;\">\n",
       "        \n",
       "  <svg xmlns=\"http://www.w3.org/2000/svg\" height=\"24px\"viewBox=\"0 0 24 24\"\n",
       "       width=\"24px\">\n",
       "    <path d=\"M0 0h24v24H0V0z\" fill=\"none\"/>\n",
       "    <path d=\"M18.56 5.44l.94 2.06.94-2.06 2.06-.94-2.06-.94-.94-2.06-.94 2.06-2.06.94zm-11 1L8.5 8.5l.94-2.06 2.06-.94-2.06-.94L8.5 2.5l-.94 2.06-2.06.94zm10 10l.94 2.06.94-2.06 2.06-.94-2.06-.94-.94-2.06-.94 2.06-2.06.94z\"/><path d=\"M17.41 7.96l-1.37-1.37c-.4-.4-.92-.59-1.43-.59-.52 0-1.04.2-1.43.59L10.3 9.45l-7.72 7.72c-.78.78-.78 2.05 0 2.83L4 21.41c.39.39.9.59 1.41.59.51 0 1.02-.2 1.41-.59l7.78-7.78 2.81-2.81c.8-.78.8-2.07 0-2.86zM5.41 20L4 18.59l7.72-7.72 1.47 1.35L5.41 20z\"/>\n",
       "  </svg>\n",
       "      </button>\n",
       "      \n",
       "  <style>\n",
       "    .colab-df-container {\n",
       "      display:flex;\n",
       "      flex-wrap:wrap;\n",
       "      gap: 12px;\n",
       "    }\n",
       "\n",
       "    .colab-df-convert {\n",
       "      background-color: #E8F0FE;\n",
       "      border: none;\n",
       "      border-radius: 50%;\n",
       "      cursor: pointer;\n",
       "      display: none;\n",
       "      fill: #1967D2;\n",
       "      height: 32px;\n",
       "      padding: 0 0 0 0;\n",
       "      width: 32px;\n",
       "    }\n",
       "\n",
       "    .colab-df-convert:hover {\n",
       "      background-color: #E2EBFA;\n",
       "      box-shadow: 0px 1px 2px rgba(60, 64, 67, 0.3), 0px 1px 3px 1px rgba(60, 64, 67, 0.15);\n",
       "      fill: #174EA6;\n",
       "    }\n",
       "\n",
       "    [theme=dark] .colab-df-convert {\n",
       "      background-color: #3B4455;\n",
       "      fill: #D2E3FC;\n",
       "    }\n",
       "\n",
       "    [theme=dark] .colab-df-convert:hover {\n",
       "      background-color: #434B5C;\n",
       "      box-shadow: 0px 1px 3px 1px rgba(0, 0, 0, 0.15);\n",
       "      filter: drop-shadow(0px 1px 2px rgba(0, 0, 0, 0.3));\n",
       "      fill: #FFFFFF;\n",
       "    }\n",
       "  </style>\n",
       "\n",
       "      <script>\n",
       "        const buttonEl =\n",
       "          document.querySelector('#df-04d464b9-381f-4226-b298-284a146d7a2b button.colab-df-convert');\n",
       "        buttonEl.style.display =\n",
       "          google.colab.kernel.accessAllowed ? 'block' : 'none';\n",
       "\n",
       "        async function convertToInteractive(key) {\n",
       "          const element = document.querySelector('#df-04d464b9-381f-4226-b298-284a146d7a2b');\n",
       "          const dataTable =\n",
       "            await google.colab.kernel.invokeFunction('convertToInteractive',\n",
       "                                                     [key], {});\n",
       "          if (!dataTable) return;\n",
       "\n",
       "          const docLinkHtml = 'Like what you see? Visit the ' +\n",
       "            '<a target=\"_blank\" href=https://colab.research.google.com/notebooks/data_table.ipynb>data table notebook</a>'\n",
       "            + ' to learn more about interactive tables.';\n",
       "          element.innerHTML = '';\n",
       "          dataTable['output_type'] = 'display_data';\n",
       "          await google.colab.output.renderOutput(dataTable, element);\n",
       "          const docLink = document.createElement('div');\n",
       "          docLink.innerHTML = docLinkHtml;\n",
       "          element.appendChild(docLink);\n",
       "        }\n",
       "      </script>\n",
       "    </div>\n",
       "  </div>\n",
       "  "
      ]
     },
     "metadata": {},
     "execution_count": 9
    }
   ],
   "source": [
    "# Your code here\n",
    "data_age=[[df_real['age'].median(),df_real['age'].mean(),df_real['age'].min(),df_real['age'].max()],\n",
    "          [df_real_A['age'].median(),df_real_A['age'].mean(),df_real_A['age'].min(),df_real_A['age'].max()],\n",
    "          [df_real_B['age'].median(),df_real_B['age'].mean(),df_real_B['age'].min(),df_real_B['age'].max()],\n",
    "          [df_real_C['age'].median(),df_real_C['age'].mean(),df_real_C['age'].min(),df_real_C['age'].max()],\n",
    "          [df_real_D['age'].median(),df_real_D['age'].mean(),df_real_D['age'].min(),df_real_D['age'].max()]]\n",
    "res_age = pd.DataFrame(data_age,columns=['Median','Mean','Min','Max'], index=['Origin','A', 'B', 'C','D'])\n",
    "\n",
    "\n",
    "data_score=[[df_real['score'].median(),df_real['score'].mean(),df_real['score'].min(),df_real['score'].max()],\n",
    "            [df_real_A['score'].median(),df_real_A['score'].mean(),df_real_A['score'].min(),df_real_A['score'].max()],\n",
    "          [df_real_B['score'].median(),df_real_B['score'].mean(),df_real_B['score'].min(),df_real_B['score'].max()],\n",
    "          [df_real_C['score'].median(),df_real_C['score'].mean(),df_real_C['score'].min(),df_real_C['score'].max()],\n",
    "          [df_real_D['score'].median(),df_real_D['score'].mean(),df_real_D['score'].min(),df_real_D['score'].max()]]\n",
    "res_score = pd.DataFrame(data_score,columns=['Median','Mean','Min','Max'], index=['Origin','A', 'B', 'C','D'])\n",
    "res_score\n"
   ]
  },
  {
   "cell_type": "markdown",
   "metadata": {
    "id": "ZFgyc2B4FdZ6"
   },
   "source": [
    "## Q2\n",
    "\n",
    "Plot histograms of the age attribute in hw_compas and in synthetic datasets generated under settings A and B."
   ]
  },
  {
   "cell_type": "code",
   "source": [
    "# Your code here\n",
    "plt.hist(df_real['age'],bins=10)\n",
    "plt.show()\n",
    "plt.hist(df_real_A['age'],bins=10)\n",
    "plt.show()\n",
    "plt.hist(df_real_B['age'],bins=10)\n",
    "plt.show()"
   ],
   "metadata": {
    "id": "eDnex3Ohv5qp",
    "colab": {
     "base_uri": "https://localhost:8080/",
     "height": 770
    },
    "outputId": "b0ba902f-e8a7-455e-815d-6ecf1c2e05af"
   },
   "execution_count": 10,
   "outputs": [
    {
     "output_type": "display_data",
     "data": {
      "text/plain": [
       "<Figure size 432x288 with 1 Axes>"
      ],
      "image/png": "[encoded data removed]"
     },
     "metadata": {
      "needs_background": "light"
     }
    },
    {
     "output_type": "display_data",
     "data": {
      "text/plain": [
       "<Figure size 432x288 with 1 Axes>"
      ],
      "image/png": "[encoded data removed]"
     },
     "metadata": {
      "needs_background": "light"
     }
    },
    {
     "output_type": "display_data",
     "data": {
      "text/plain": [
       "<Figure size 432x288 with 1 Axes>"
      ],
      "image/png": "[encoded data removed]"
     },
     "metadata": {
      "needs_background": "light"
     }
    }
   ]
  },
  {
   "cell_type": "markdown",
   "source": [
    "Create bar plots for the sex attribute in hw_compas and in synthetic datasets generated under settings A and B."
   ],
   "metadata": {
    "id": "rS_R-bDGweX6"
   }
  },
  {
   "cell_type": "code",
   "source": [
    "# Your code here\n",
    "plt.bar(x=['Male','Female'],\n",
    "        height=[df_real['sex'].value_counts()[0],df_real['sex'].value_counts()[1]])\n",
    "plt.show()\n",
    "plt.bar(x=['Male','Female'],\n",
    "        height=[df_real_A['sex'].value_counts()[0],df_real_A['sex'].value_counts()[1]])\n",
    "plt.show()\n",
    "plt.bar(x=['Male','Female'],\n",
    "        height=[df_real_B['sex'].value_counts()[0],df_real_B['sex'].value_counts()[1]])\n",
    "plt.show()\n"
   ],
   "metadata": {
    "id": "DzdWPG4rwj69",
    "colab": {
     "base_uri": "https://localhost:8080/",
     "height": 770
    },
    "outputId": "c946a9ae-5bcd-44a1-caf7-dfd5ba642dc6"
   },
   "execution_count": 11,
   "outputs": [
    {
     "output_type": "display_data",
     "data": {
      "text/plain": [
       "<Figure size 432x288 with 1 Axes>"
      ],
      "image/png": "[encoded data removed]"
     },
     "metadata": {
      "needs_background": "light"
     }
    },
    {
     "output_type": "display_data",
     "data": {
      "text/plain": [
       "<Figure size 432x288 with 1 Axes>"
      ],
      "image/png": "[encoded data removed]"
     },
     "metadata": {
      "needs_background": "light"
     }
    },
    {
     "output_type": "display_data",
     "data": {
      "text/plain": [
       "<Figure size 432x288 with 1 Axes>"
      ],
      "image/png": "[encoded data removed]"
     },
     "metadata": {
      "needs_background": "light"
     }
    }
   ]
  },
  {
   "cell_type": "markdown",
   "source": [
    "\n",
    "The functions below can be used to compute two statistical measures: __Two-sample Kolmogorov–Smirnov test__ and __KL-divergence__."
   ],
   "metadata": {
    "id": "E1-tiJN2wNPk"
   }
  },
  {
   "cell_type": "markdown",
   "metadata": {
    "id": "g-Or3PInFdan"
   },
   "source": [
    "### Two-sample Kolmogorov–Smirnov test for continuous attributes\n",
    "\n",
    "Use the `ks_test` function to run the Kolomogorov-Smirnov test on the age attribute. You should first test `df_real` against `df_real_A` and then test `df_real` against `df_real_B`."
   ]
  },
  {
   "cell_type": "code",
   "execution_count": 12,
   "metadata": {
    "id": "yTzh1CM6Fdap"
   },
   "outputs": [],
   "source": [
    "def ks_test(df_in: pd.DataFrame, df_out: pd.DataFrame, attr: str):\n",
    "    \"\"\"\n",
    "    df_in: the sensitive dataset\n",
    "    df_out: the synthetic dataset\n",
    "    attr: the attribute that will be calculated for Two-sample Kolmogorov–Smirnov test\n",
    "    \"\"\"\n",
    "    return ks_2samp(df_in[attr], df_out[attr])[0]"
   ]
  },
  {
   "cell_type": "code",
   "execution_count": 13,
   "metadata": {
    "id": "ZeqtORgGFdZ7",
    "colab": {
     "base_uri": "https://localhost:8080/"
    },
    "outputId": "4f9ab0f8-53ec-4390-ea6e-a14c73941412"
   },
   "outputs": [
    {
     "output_type": "stream",
     "name": "stdout",
     "text": [
      "Real and A 0.3735091775112699\n",
      "Real and B 0.026252445351705345\n"
     ]
    }
   ],
   "source": [
    "# Your code here\n",
    "print(\"Real and A\",ks_test(df_real,df_real_A,'age'))\n",
    "print(\"Real and B\",ks_test(df_real,df_real_B,'age'))"
   ]
  },
  {
   "cell_type": "markdown",
   "metadata": {
    "id": "X1eUjSSxFda3"
   },
   "source": [
    "### KL-divergence for categorical attributes\n",
    "\n",
    "Use the `kl_test` function to calculate the KL-divergence on the sex attribute. You should first run `df_real` against `df_real_A` and then run `df_real` against `df_real_B`."
   ]
  },
  {
   "cell_type": "code",
   "execution_count": 25,
   "metadata": {
    "id": "cidvm1mAFda3"
   },
   "outputs": [],
   "source": [
    "def get_distribution_of_categorical_attribute(attribute: pd.Series, indicies=None):\n",
    "    distribution = attribute.dropna().value_counts()\n",
    "    if indicies is not None:\n",
    "        for idx in set(indicies) - set(distribution.index):\n",
    "            distribution.loc[idx] = 0\n",
    "    distribution.sort_index(inplace=True)\n",
    "    return distribution/sum(distribution)\n",
    "\n",
    "def kl_test(df_in: pd.DataFrame, df_out: pd.DataFrame, attr: str):\n",
    "    \"\"\"\n",
    "    df_in: the sensitive dataset\n",
    "    df_out: the synthetic dataset\n",
    "    attr: the attribute that will be calculated for KL-divergence.\n",
    "    \"\"\"\n",
    "    distribution_in = get_distribution_of_categorical_attribute(df_in[attr])\n",
    "    distribution_out = get_distribution_of_categorical_attribute(df_out[attr], distribution_in.index)\n",
    "    return entropy(distribution_out, distribution_in)"
   ]
  },
  {
   "cell_type": "code",
   "source": [
    "# Your code here\n",
    "print(\"Real and A\",kl_test(df_real,df_real_A,'sex'))\n",
    "print(\"Real and B\",kl_test(df_real,df_real_B,'sex'))"
   ],
   "metadata": {
    "id": "xnABu9ADRcI0",
    "colab": {
     "base_uri": "https://localhost:8080/"
    },
    "outputId": "3713687d-ed59-405e-f15b-23435ec9acb1"
   },
   "execution_count": 27,
   "outputs": [
    {
     "output_type": "stream",
     "name": "stdout",
     "text": [
      "Real and A 0.22319792405369002\n",
      "Real and B 0.0002494300869420041\n"
     ]
    }
   ]
  },
  {
   "cell_type": "markdown",
   "metadata": {
    "id": "XKzIAfI9FdbD"
   },
   "source": [
    "## Q3\n",
    "\n",
    "Calculate the pairwise mutual information matrix for `hw_fake`, `df_fake_C`, and `df_fake_D`."
   ]
  },
  {
   "cell_type": "code",
   "source": [
    "# Use pairwise_attributes_mutual_information function\n",
    "# For function parameters, refer to https://github.com/DataResponsibly/DataSynthesizer/blob/master/DataSynthesizer/lib/utils.py#L31\n",
    "from sklearn.metrics import mutual_info_score, normalized_mutual_info_score\n",
    "\n",
    "def pairwise_attributes_mutual_information(dataset):\n",
    "    \"\"\"Compute normalized mutual information for all pairwise attributes. Return a DataFrame.\"\"\"\n",
    "    sorted_columns = sorted(dataset.columns)\n",
    "    mi_df = pd.DataFrame(columns=sorted_columns, index=sorted_columns, dtype=float)\n",
    "    for row in mi_df.columns:\n",
    "        for col in mi_df.columns:\n",
    "            mi_df.loc[row, col] = normalized_mutual_info_score(dataset[row].astype(str),\n",
    "                                                               dataset[col].astype(str),\n",
    "                                                               average_method='arithmetic')\n",
    "    return mi_df\n",
    "\n",
    "# Your code here\n",
    "matrix_fake=pairwise_attributes_mutual_information(df_fake)\n",
    "matrix_fake_C=pairwise_attributes_mutual_information(df_fake_C)\n",
    "matrix_fake_D=pairwise_attributes_mutual_information(df_fake_D)\n"
   ],
   "metadata": {
    "id": "NNd9mfMOVXrA"
   },
   "execution_count": 16,
   "outputs": []
  },
  {
   "cell_type": "markdown",
   "source": [
    "Plot each pairwise mutual information matrix below using `sns.heatmap`. You should set `vmax=1` and `vmin=0` in your call to `sns.heatmap`."
   ],
   "metadata": {
    "id": "Fsz-HYl8W6Jb"
   }
  },
  {
   "cell_type": "code",
   "source": [
    "# Use can sns.heatmap for pairwise mutual information\n",
    "# For examples, refer to https://seaborn.pydata.org/generated/seaborn.heatmap.html\n",
    "\n",
    "# Your code here\n",
    "ax = sns.heatmap(matrix_fake, vmin=0, vmax=1)"
   ],
   "metadata": {
    "id": "beIDrJn3VYbS",
    "colab": {
     "base_uri": "https://localhost:8080/",
     "height": 273
    },
    "outputId": "4589896b-0e70-446c-b465-cca01ef4eccc"
   },
   "execution_count": 17,
   "outputs": [
    {
     "output_type": "display_data",
     "data": {
      "text/plain": [
       "<Figure size 432x288 with 2 Axes>"
      ],
      "image/png": "[encoded data removed]"
     },
     "metadata": {
      "needs_background": "light"
     }
    }
   ]
  },
  {
   "cell_type": "markdown",
   "metadata": {
    "id": "FpoWEnYTFdbb"
   },
   "source": [
    "# Part (b)\n",
    "\n",
    "With epsilon = 0.1, generate __10__ synthetic datasets for each of mode A, B, and C by specifying different seeds. Calculate the mean and median in each dataset. We recommend using a for loop here, e.g. `for rep in range(10):`"
   ]
  },
  {
   "cell_type": "code",
   "source": [
    "set_random_seed(seed) # this will specify different seeds\n",
    "ds_A =[]\n",
    "ds_B =[]\n",
    "ds_C =[]\n",
    "mean_age_A = []\n",
    "mean_age_B = []\n",
    "mean_age_C = []\n",
    "median_age_A = []\n",
    "median_age_B = []\n",
    "median_age_C = []\n",
    "epsilon=0.1\n",
    "\n",
    "for rep in range(10):\n",
    "  # Your code here\n",
    "  A = generate_data_A(real_data_file, output_data_size, seed=seed)\n",
    "  ds_A.append(A)\n",
    "  mean_age_A.append(A['age'].mean())\n",
    "  median_age_A.append(A['age'].mean())\n",
    "  B = generate_data_B(real_data_file, output_data_size, epsilon=epsilon, seed=seed)\n",
    "  ds_B.append(B)\n",
    "  mean_age_B.append(B['age'].mean())\n",
    "  median_age_B.append(B['age'].mean())\n",
    "  C = generate_data_C(real_data_file, output_data_size, epsilon=epsilon, seed=seed)\n",
    "  ds_C.append(C)\n",
    "  mean_age_C.append(C['age'].mean())\n",
    "  median_age_C.append(C['age'].mean())\n",
    "  clear_output()"
   ],
   "metadata": {
    "id": "hWMK9CkmZkPP"
   },
   "execution_count": 18,
   "outputs": []
  },
  {
   "cell_type": "markdown",
   "source": [
    "Plot the mean and the median values as box-and-whiskers plots. You should have two plots: one for the mean and one for the median. Put the mode (A, B, C) on the x-axis. The median/mean should be on the y-axis."
   ],
   "metadata": {
    "id": "EYGz8C_2Zl2q"
   }
  },
  {
   "cell_type": "code",
   "execution_count": 19,
   "metadata": {
    "id": "xTEwLoi0Fdbb",
    "colab": {
     "base_uri": "https://localhost:8080/",
     "height": 455
    },
    "outputId": "6197384c-b13d-4569-de64-45e03162827f"
   },
   "outputs": [
    {
     "output_type": "stream",
     "name": "stdout",
     "text": [
      "         A        B        C\n",
      "0  50.1731  35.7354  41.5788\n",
      "1  49.8201  36.9584  44.0390\n",
      "2  50.6380  36.0901  40.0370\n",
      "3  50.1614  36.3214  41.6760\n",
      "4  50.1171  36.4302  40.0710\n",
      "5  49.8993  34.8719  42.9967\n",
      "6  49.5898  37.0742  36.1286\n",
      "7  50.3284  36.5627  43.7623\n",
      "8  49.7227  36.1204  40.7417\n",
      "9  49.9459  35.5626  43.5333\n"
     ]
    },
    {
     "output_type": "display_data",
     "data": {
      "text/plain": [
       "<Figure size 432x288 with 1 Axes>"
      ],
      "image/png": "[encoded data removed]"
     },
     "metadata": {
      "needs_background": "light"
     }
    }
   ],
   "source": [
    "# You can use sns.boxplot for the plots\n",
    "# For examples, refer to https://seaborn.pydata.org/generated/seaborn.boxplot.html\n",
    "import numpy as np\n",
    "# Your code here\n",
    "df=pd.DataFrame([mean_age_A,mean_age_B,mean_age_C],index=['A','B','C']).T\n",
    "print(df)\n",
    "ax = sns.boxplot(data=df)"
   ]
  },
  {
   "cell_type": "markdown",
   "metadata": {
    "id": "UINl2ivCFdbk"
   },
   "source": [
    "# Part (c)\n",
    "\n",
    "Study how the KL-divergence of the race attribute changes for settings B, C, and D as you vary your privacy budget __epsilon__ = [0.02, 0.04, ... , 0.1]. For each setting B, C, D, you should generate 10 synthetic data sets for each epsilon value (a total of 3 * 10 * 6 = 180 datasets). \n",
    "\n",
    "Hint: We recommend using a nested for loop and have provided some starter code in the cell below. You may use a different approach as you see fit."
   ]
  },
  {
   "cell_type": "code",
   "execution_count": 28,
   "metadata": {
    "id": "m1bao_uxFdbl",
    "colab": {
     "base_uri": "https://localhost:8080/"
    },
    "outputId": "b76b1978-7e3f-4797-cac6-f71ebe3562c7"
   },
   "outputs": [
    {
     "output_type": "stream",
     "name": "stdout",
     "text": [
      "~~~ i=0, epsilon=0.02 ~~~\n",
      "0 0\n",
      "================ Constructing Bayesian Network (BN) ================\n",
      "Adding ROOT sex\n",
      "Adding attribute age\n",
      "Adding attribute race\n",
      "Adding attribute score\n",
      "========================== BN constructed ==========================\n",
      "================ Constructing Bayesian Network (BN) ================\n",
      "Adding ROOT race\n",
      "Adding attribute age\n",
      "Adding attribute sex\n",
      "Adding attribute score\n",
      "========================== BN constructed ==========================\n",
      "0 1\n",
      "================ Constructing Bayesian Network (BN) ================\n",
      "Adding ROOT sex\n",
      "Adding attribute age\n",
      "Adding attribute race\n",
      "Adding attribute score\n",
      "========================== BN constructed ==========================\n",
      "================ Constructing Bayesian Network (BN) ================\n",
      "Adding ROOT race\n",
      "Adding attribute sex\n",
      "Adding attribute score\n",
      "Adding attribute age\n",
      "========================== BN constructed ==========================\n",
      "0 2\n",
      "================ Constructing Bayesian Network (BN) ================\n",
      "Adding ROOT race\n",
      "Adding attribute age\n",
      "Adding attribute score\n",
      "Adding attribute sex\n",
      "========================== BN constructed ==========================\n",
      "================ Constructing Bayesian Network (BN) ================\n",
      "Adding ROOT sex\n",
      "Adding attribute race\n",
      "Adding attribute score\n",
      "Adding attribute age\n",
      "========================== BN constructed ==========================\n",
      "0 3\n",
      "================ Constructing Bayesian Network (BN) ================\n",
      "Adding ROOT sex\n",
      "Adding attribute age\n",
      "Adding attribute race\n",
      "Adding attribute score\n",
      "========================== BN constructed ==========================\n",
      "================ Constructing Bayesian Network (BN) ================\n",
      "Adding ROOT race\n",
      "Adding attribute sex\n",
      "Adding attribute score\n",
      "Adding attribute age\n",
      "========================== BN constructed ==========================\n",
      "0 4\n",
      "================ Constructing Bayesian Network (BN) ================\n",
      "Adding ROOT sex\n",
      "Adding attribute race\n",
      "Adding attribute age\n",
      "Adding attribute score\n",
      "========================== BN constructed ==========================\n",
      "================ Constructing Bayesian Network (BN) ================\n",
      "Adding ROOT race\n",
      "Adding attribute sex\n",
      "Adding attribute age\n",
      "Adding attribute score\n",
      "========================== BN constructed ==========================\n",
      "0 5\n",
      "================ Constructing Bayesian Network (BN) ================\n",
      "Adding ROOT sex\n",
      "Adding attribute race\n",
      "Adding attribute score\n",
      "Adding attribute age\n",
      "========================== BN constructed ==========================\n",
      "================ Constructing Bayesian Network (BN) ================\n",
      "Adding ROOT sex\n",
      "Adding attribute race\n",
      "Adding attribute score\n",
      "Adding attribute age\n",
      "========================== BN constructed ==========================\n",
      "0 6\n",
      "================ Constructing Bayesian Network (BN) ================\n",
      "Adding ROOT age\n",
      "Adding attribute race\n",
      "Adding attribute score\n",
      "Adding attribute sex\n",
      "========================== BN constructed ==========================\n",
      "================ Constructing Bayesian Network (BN) ================\n",
      "Adding ROOT age\n",
      "Adding attribute sex\n",
      "Adding attribute race\n",
      "Adding attribute score\n",
      "========================== BN constructed ==========================\n",
      "0 7\n",
      "================ Constructing Bayesian Network (BN) ================\n",
      "Adding ROOT age\n",
      "Adding attribute score\n",
      "Adding attribute race\n",
      "Adding attribute sex\n",
      "========================== BN constructed ==========================\n",
      "================ Constructing Bayesian Network (BN) ================\n",
      "Adding ROOT score\n",
      "Adding attribute race\n",
      "Adding attribute age\n",
      "Adding attribute sex\n",
      "========================== BN constructed ==========================\n",
      "0 8\n",
      "================ Constructing Bayesian Network (BN) ================\n",
      "Adding ROOT race\n",
      "Adding attribute score\n",
      "Adding attribute age\n",
      "Adding attribute sex\n",
      "========================== BN constructed ==========================\n",
      "================ Constructing Bayesian Network (BN) ================\n",
      "Adding ROOT sex\n",
      "Adding attribute age\n",
      "Adding attribute score\n",
      "Adding attribute race\n",
      "========================== BN constructed ==========================\n",
      "0 9\n",
      "================ Constructing Bayesian Network (BN) ================\n",
      "Adding ROOT sex\n",
      "Adding attribute race\n",
      "Adding attribute score\n",
      "Adding attribute age\n",
      "========================== BN constructed ==========================\n",
      "================ Constructing Bayesian Network (BN) ================\n",
      "Adding ROOT race\n",
      "Adding attribute age\n",
      "Adding attribute score\n",
      "Adding attribute sex\n",
      "========================== BN constructed ==========================\n",
      "~~~ i=1, epsilon=0.04 ~~~\n",
      "1 0\n",
      "================ Constructing Bayesian Network (BN) ================\n",
      "Adding ROOT sex\n",
      "Adding attribute score\n",
      "Adding attribute race\n",
      "Adding attribute age\n",
      "========================== BN constructed ==========================\n",
      "================ Constructing Bayesian Network (BN) ================\n",
      "Adding ROOT score\n",
      "Adding attribute age\n",
      "Adding attribute sex\n",
      "Adding attribute race\n",
      "========================== BN constructed ==========================\n",
      "1 1\n",
      "================ Constructing Bayesian Network (BN) ================\n",
      "Adding ROOT age\n",
      "Adding attribute score\n",
      "Adding attribute race\n",
      "Adding attribute sex\n",
      "========================== BN constructed ==========================\n",
      "================ Constructing Bayesian Network (BN) ================\n",
      "Adding ROOT age\n",
      "Adding attribute race\n",
      "Adding attribute sex\n",
      "Adding attribute score\n",
      "========================== BN constructed ==========================\n",
      "1 2\n",
      "================ Constructing Bayesian Network (BN) ================\n",
      "Adding ROOT race\n",
      "Adding attribute sex\n",
      "Adding attribute age\n",
      "Adding attribute score\n",
      "========================== BN constructed ==========================\n",
      "================ Constructing Bayesian Network (BN) ================\n",
      "Adding ROOT race\n",
      "Adding attribute age\n",
      "Adding attribute sex\n",
      "Adding attribute score\n",
      "========================== BN constructed ==========================\n",
      "1 3\n",
      "================ Constructing Bayesian Network (BN) ================\n",
      "Adding ROOT score\n",
      "Adding attribute race\n",
      "Adding attribute sex\n",
      "Adding attribute age\n",
      "========================== BN constructed ==========================\n",
      "================ Constructing Bayesian Network (BN) ================\n",
      "Adding ROOT race\n",
      "Adding attribute score\n",
      "Adding attribute age\n",
      "Adding attribute sex\n",
      "========================== BN constructed ==========================\n",
      "1 4\n",
      "================ Constructing Bayesian Network (BN) ================\n",
      "Adding ROOT race\n",
      "Adding attribute score\n",
      "Adding attribute age\n",
      "Adding attribute sex\n",
      "========================== BN constructed ==========================\n",
      "================ Constructing Bayesian Network (BN) ================\n",
      "Adding ROOT age\n",
      "Adding attribute race\n",
      "Adding attribute score\n",
      "Adding attribute sex\n",
      "========================== BN constructed ==========================\n",
      "1 5\n",
      "================ Constructing Bayesian Network (BN) ================\n",
      "Adding ROOT race\n",
      "Adding attribute sex\n",
      "Adding attribute score\n",
      "Adding attribute age\n",
      "========================== BN constructed ==========================\n",
      "================ Constructing Bayesian Network (BN) ================\n",
      "Adding ROOT race\n",
      "Adding attribute sex\n",
      "Adding attribute score\n",
      "Adding attribute age\n",
      "========================== BN constructed ==========================\n",
      "1 6\n",
      "================ Constructing Bayesian Network (BN) ================\n",
      "Adding ROOT score\n",
      "Adding attribute race\n",
      "Adding attribute age\n",
      "Adding attribute sex\n",
      "========================== BN constructed ==========================\n",
      "================ Constructing Bayesian Network (BN) ================\n",
      "Adding ROOT sex\n",
      "Adding attribute age\n",
      "Adding attribute race\n",
      "Adding attribute score\n",
      "========================== BN constructed ==========================\n",
      "1 7\n",
      "================ Constructing Bayesian Network (BN) ================\n",
      "Adding ROOT race\n",
      "Adding attribute age\n",
      "Adding attribute score\n",
      "Adding attribute sex\n",
      "========================== BN constructed ==========================\n",
      "================ Constructing Bayesian Network (BN) ================\n",
      "Adding ROOT race\n",
      "Adding attribute score\n",
      "Adding attribute sex\n",
      "Adding attribute age\n",
      "========================== BN constructed ==========================\n",
      "1 8\n",
      "================ Constructing Bayesian Network (BN) ================\n",
      "Adding ROOT race\n",
      "Adding attribute score\n",
      "Adding attribute sex\n",
      "Adding attribute age\n",
      "========================== BN constructed ==========================\n",
      "================ Constructing Bayesian Network (BN) ================\n",
      "Adding ROOT race\n",
      "Adding attribute age\n",
      "Adding attribute sex\n",
      "Adding attribute score\n",
      "========================== BN constructed ==========================\n",
      "1 9\n",
      "================ Constructing Bayesian Network (BN) ================\n",
      "Adding ROOT age\n",
      "Adding attribute score\n",
      "Adding attribute race\n",
      "Adding attribute sex\n",
      "========================== BN constructed ==========================\n",
      "================ Constructing Bayesian Network (BN) ================\n",
      "Adding ROOT age\n",
      "Adding attribute score\n",
      "Adding attribute sex\n",
      "Adding attribute race\n",
      "========================== BN constructed ==========================\n",
      "~~~ i=2, epsilon=0.06 ~~~\n",
      "2 0\n",
      "================ Constructing Bayesian Network (BN) ================\n",
      "Adding ROOT race\n",
      "Adding attribute score\n",
      "Adding attribute age\n",
      "Adding attribute sex\n",
      "========================== BN constructed ==========================\n",
      "================ Constructing Bayesian Network (BN) ================\n",
      "Adding ROOT score\n",
      "Adding attribute race\n",
      "Adding attribute sex\n",
      "Adding attribute age\n",
      "========================== BN constructed ==========================\n",
      "2 1\n",
      "================ Constructing Bayesian Network (BN) ================\n",
      "Adding ROOT age\n",
      "Adding attribute race\n",
      "Adding attribute sex\n",
      "Adding attribute score\n",
      "========================== BN constructed ==========================\n",
      "================ Constructing Bayesian Network (BN) ================\n",
      "Adding ROOT race\n",
      "Adding attribute sex\n",
      "Adding attribute age\n",
      "Adding attribute score\n",
      "========================== BN constructed ==========================\n",
      "2 2\n",
      "================ Constructing Bayesian Network (BN) ================\n",
      "Adding ROOT race\n",
      "Adding attribute score\n",
      "Adding attribute age\n",
      "Adding attribute sex\n",
      "========================== BN constructed ==========================\n",
      "================ Constructing Bayesian Network (BN) ================\n",
      "Adding ROOT sex\n",
      "Adding attribute race\n",
      "Adding attribute score\n",
      "Adding attribute age\n",
      "========================== BN constructed ==========================\n",
      "2 3\n",
      "================ Constructing Bayesian Network (BN) ================\n",
      "Adding ROOT sex\n",
      "Adding attribute race\n",
      "Adding attribute score\n",
      "Adding attribute age\n",
      "========================== BN constructed ==========================\n",
      "================ Constructing Bayesian Network (BN) ================\n",
      "Adding ROOT sex\n",
      "Adding attribute race\n",
      "Adding attribute age\n",
      "Adding attribute score\n",
      "========================== BN constructed ==========================\n",
      "2 4\n",
      "================ Constructing Bayesian Network (BN) ================\n",
      "Adding ROOT sex\n",
      "Adding attribute race\n",
      "Adding attribute age\n",
      "Adding attribute score\n",
      "========================== BN constructed ==========================\n",
      "================ Constructing Bayesian Network (BN) ================\n",
      "Adding ROOT race\n",
      "Adding attribute score\n",
      "Adding attribute sex\n",
      "Adding attribute age\n",
      "========================== BN constructed ==========================\n",
      "2 5\n",
      "================ Constructing Bayesian Network (BN) ================\n",
      "Adding ROOT sex\n",
      "Adding attribute age\n",
      "Adding attribute race\n",
      "Adding attribute score\n",
      "========================== BN constructed ==========================\n",
      "================ Constructing Bayesian Network (BN) ================\n",
      "Adding ROOT sex\n",
      "Adding attribute age\n",
      "Adding attribute score\n",
      "Adding attribute race\n",
      "========================== BN constructed ==========================\n",
      "2 6\n",
      "================ Constructing Bayesian Network (BN) ================\n",
      "Adding ROOT age\n",
      "Adding attribute score\n",
      "Adding attribute race\n",
      "Adding attribute sex\n",
      "========================== BN constructed ==========================\n",
      "================ Constructing Bayesian Network (BN) ================\n",
      "Adding ROOT age\n",
      "Adding attribute score\n",
      "Adding attribute race\n",
      "Adding attribute sex\n",
      "========================== BN constructed ==========================\n",
      "2 7\n",
      "================ Constructing Bayesian Network (BN) ================\n",
      "Adding ROOT sex\n",
      "Adding attribute age\n",
      "Adding attribute score\n",
      "Adding attribute race\n",
      "========================== BN constructed ==========================\n",
      "================ Constructing Bayesian Network (BN) ================\n",
      "Adding ROOT score\n",
      "Adding attribute sex\n",
      "Adding attribute age\n",
      "Adding attribute race\n",
      "========================== BN constructed ==========================\n",
      "2 8\n",
      "================ Constructing Bayesian Network (BN) ================\n",
      "Adding ROOT age\n",
      "Adding attribute race\n",
      "Adding attribute score\n",
      "Adding attribute sex\n",
      "========================== BN constructed ==========================\n",
      "================ Constructing Bayesian Network (BN) ================\n",
      "Adding ROOT race\n",
      "Adding attribute age\n",
      "Adding attribute score\n",
      "Adding attribute sex\n",
      "========================== BN constructed ==========================\n",
      "2 9\n",
      "================ Constructing Bayesian Network (BN) ================\n",
      "Adding ROOT race\n",
      "Adding attribute sex\n",
      "Adding attribute age\n",
      "Adding attribute score\n",
      "========================== BN constructed ==========================\n",
      "================ Constructing Bayesian Network (BN) ================\n",
      "Adding ROOT sex\n",
      "Adding attribute race\n",
      "Adding attribute score\n",
      "Adding attribute age\n",
      "========================== BN constructed ==========================\n",
      "~~~ i=3, epsilon=0.08 ~~~\n",
      "3 0\n",
      "================ Constructing Bayesian Network (BN) ================\n",
      "Adding ROOT score\n",
      "Adding attribute race\n",
      "Adding attribute sex\n",
      "Adding attribute age\n",
      "========================== BN constructed ==========================\n",
      "================ Constructing Bayesian Network (BN) ================\n",
      "Adding ROOT sex\n",
      "Adding attribute age\n",
      "Adding attribute score\n",
      "Adding attribute race\n",
      "========================== BN constructed ==========================\n",
      "3 1\n",
      "================ Constructing Bayesian Network (BN) ================\n",
      "Adding ROOT age\n",
      "Adding attribute score\n",
      "Adding attribute sex\n",
      "Adding attribute race\n",
      "========================== BN constructed ==========================\n",
      "================ Constructing Bayesian Network (BN) ================\n",
      "Adding ROOT sex\n",
      "Adding attribute age\n",
      "Adding attribute score\n",
      "Adding attribute race\n",
      "========================== BN constructed ==========================\n",
      "3 2\n",
      "================ Constructing Bayesian Network (BN) ================\n",
      "Adding ROOT age\n",
      "Adding attribute sex\n",
      "Adding attribute score\n",
      "Adding attribute race\n",
      "========================== BN constructed ==========================\n",
      "================ Constructing Bayesian Network (BN) ================\n",
      "Adding ROOT age\n",
      "Adding attribute score\n",
      "Adding attribute race\n",
      "Adding attribute sex\n",
      "========================== BN constructed ==========================\n",
      "3 3\n",
      "================ Constructing Bayesian Network (BN) ================\n",
      "Adding ROOT score\n",
      "Adding attribute race\n",
      "Adding attribute age\n",
      "Adding attribute sex\n",
      "========================== BN constructed ==========================\n",
      "================ Constructing Bayesian Network (BN) ================\n",
      "Adding ROOT score\n",
      "Adding attribute race\n",
      "Adding attribute age\n",
      "Adding attribute sex\n",
      "========================== BN constructed ==========================\n",
      "3 4\n",
      "================ Constructing Bayesian Network (BN) ================\n",
      "Adding ROOT age\n",
      "Adding attribute race\n",
      "Adding attribute sex\n",
      "Adding attribute score\n",
      "========================== BN constructed ==========================\n",
      "================ Constructing Bayesian Network (BN) ================\n",
      "Adding ROOT race\n",
      "Adding attribute age\n",
      "Adding attribute score\n",
      "Adding attribute sex\n",
      "========================== BN constructed ==========================\n",
      "3 5\n",
      "================ Constructing Bayesian Network (BN) ================\n",
      "Adding ROOT race\n",
      "Adding attribute age\n",
      "Adding attribute sex\n",
      "Adding attribute score\n",
      "========================== BN constructed ==========================\n",
      "================ Constructing Bayesian Network (BN) ================\n",
      "Adding ROOT sex\n",
      "Adding attribute score\n",
      "Adding attribute age\n",
      "Adding attribute race\n",
      "========================== BN constructed ==========================\n",
      "3 6\n",
      "================ Constructing Bayesian Network (BN) ================\n",
      "Adding ROOT score\n",
      "Adding attribute age\n",
      "Adding attribute race\n",
      "Adding attribute sex\n",
      "========================== BN constructed ==========================\n",
      "================ Constructing Bayesian Network (BN) ================\n",
      "Adding ROOT race\n",
      "Adding attribute score\n",
      "Adding attribute sex\n",
      "Adding attribute age\n",
      "========================== BN constructed ==========================\n",
      "3 7\n",
      "================ Constructing Bayesian Network (BN) ================\n",
      "Adding ROOT age\n",
      "Adding attribute score\n",
      "Adding attribute race\n",
      "Adding attribute sex\n",
      "========================== BN constructed ==========================\n",
      "================ Constructing Bayesian Network (BN) ================\n",
      "Adding ROOT score\n",
      "Adding attribute age\n",
      "Adding attribute sex\n",
      "Adding attribute race\n",
      "========================== BN constructed ==========================\n",
      "3 8\n",
      "================ Constructing Bayesian Network (BN) ================\n",
      "Adding ROOT race\n",
      "Adding attribute age\n",
      "Adding attribute score\n",
      "Adding attribute sex\n",
      "========================== BN constructed ==========================\n",
      "================ Constructing Bayesian Network (BN) ================\n",
      "Adding ROOT age\n",
      "Adding attribute score\n",
      "Adding attribute sex\n",
      "Adding attribute race\n",
      "========================== BN constructed ==========================\n",
      "3 9\n",
      "================ Constructing Bayesian Network (BN) ================\n",
      "Adding ROOT score\n",
      "Adding attribute age\n",
      "Adding attribute race\n",
      "Adding attribute sex\n",
      "========================== BN constructed ==========================\n",
      "================ Constructing Bayesian Network (BN) ================\n",
      "Adding ROOT age\n",
      "Adding attribute score\n",
      "Adding attribute sex\n",
      "Adding attribute race\n",
      "========================== BN constructed ==========================\n",
      "~~~ i=4, epsilon=0.1 ~~~\n",
      "4 0\n",
      "================ Constructing Bayesian Network (BN) ================\n",
      "Adding ROOT age\n",
      "Adding attribute race\n",
      "Adding attribute sex\n",
      "Adding attribute score\n",
      "========================== BN constructed ==========================\n",
      "================ Constructing Bayesian Network (BN) ================\n",
      "Adding ROOT race\n",
      "Adding attribute age\n",
      "Adding attribute score\n",
      "Adding attribute sex\n",
      "========================== BN constructed ==========================\n",
      "4 1\n",
      "================ Constructing Bayesian Network (BN) ================\n",
      "Adding ROOT age\n",
      "Adding attribute score\n",
      "Adding attribute race\n",
      "Adding attribute sex\n",
      "========================== BN constructed ==========================\n",
      "================ Constructing Bayesian Network (BN) ================\n",
      "Adding ROOT age\n",
      "Adding attribute race\n",
      "Adding attribute score\n",
      "Adding attribute sex\n",
      "========================== BN constructed ==========================\n",
      "4 2\n",
      "================ Constructing Bayesian Network (BN) ================\n",
      "Adding ROOT sex\n",
      "Adding attribute score\n",
      "Adding attribute age\n",
      "Adding attribute race\n",
      "========================== BN constructed ==========================\n",
      "================ Constructing Bayesian Network (BN) ================\n",
      "Adding ROOT age\n",
      "Adding attribute score\n",
      "Adding attribute sex\n",
      "Adding attribute race\n",
      "========================== BN constructed ==========================\n",
      "4 3\n",
      "================ Constructing Bayesian Network (BN) ================\n",
      "Adding ROOT score\n",
      "Adding attribute age\n",
      "Adding attribute sex\n",
      "Adding attribute race\n",
      "========================== BN constructed ==========================\n",
      "================ Constructing Bayesian Network (BN) ================\n",
      "Adding ROOT race\n",
      "Adding attribute age\n",
      "Adding attribute score\n",
      "Adding attribute sex\n",
      "========================== BN constructed ==========================\n",
      "4 4\n",
      "================ Constructing Bayesian Network (BN) ================\n",
      "Adding ROOT race\n",
      "Adding attribute age\n",
      "Adding attribute score\n",
      "Adding attribute sex\n",
      "========================== BN constructed ==========================\n",
      "================ Constructing Bayesian Network (BN) ================\n",
      "Adding ROOT sex\n",
      "Adding attribute race\n",
      "Adding attribute score\n",
      "Adding attribute age\n",
      "========================== BN constructed ==========================\n",
      "4 5\n",
      "================ Constructing Bayesian Network (BN) ================\n",
      "Adding ROOT score\n",
      "Adding attribute race\n",
      "Adding attribute sex\n",
      "Adding attribute age\n",
      "========================== BN constructed ==========================\n",
      "================ Constructing Bayesian Network (BN) ================\n",
      "Adding ROOT race\n",
      "Adding attribute score\n",
      "Adding attribute age\n",
      "Adding attribute sex\n",
      "========================== BN constructed ==========================\n",
      "4 6\n",
      "================ Constructing Bayesian Network (BN) ================\n",
      "Adding ROOT sex\n",
      "Adding attribute age\n",
      "Adding attribute score\n",
      "Adding attribute race\n",
      "========================== BN constructed ==========================\n",
      "================ Constructing Bayesian Network (BN) ================\n",
      "Adding ROOT age\n",
      "Adding attribute sex\n",
      "Adding attribute score\n",
      "Adding attribute race\n",
      "========================== BN constructed ==========================\n",
      "4 7\n",
      "================ Constructing Bayesian Network (BN) ================\n",
      "Adding ROOT score\n",
      "Adding attribute sex\n",
      "Adding attribute race\n",
      "Adding attribute age\n",
      "========================== BN constructed ==========================\n",
      "================ Constructing Bayesian Network (BN) ================\n",
      "Adding ROOT score\n",
      "Adding attribute race\n",
      "Adding attribute age\n",
      "Adding attribute sex\n",
      "========================== BN constructed ==========================\n",
      "4 8\n",
      "================ Constructing Bayesian Network (BN) ================\n",
      "Adding ROOT score\n",
      "Adding attribute race\n",
      "Adding attribute sex\n",
      "Adding attribute age\n",
      "========================== BN constructed ==========================\n",
      "================ Constructing Bayesian Network (BN) ================\n",
      "Adding ROOT age\n",
      "Adding attribute sex\n",
      "Adding attribute score\n",
      "Adding attribute race\n",
      "========================== BN constructed ==========================\n",
      "4 9\n",
      "================ Constructing Bayesian Network (BN) ================\n",
      "Adding ROOT race\n",
      "Adding attribute age\n",
      "Adding attribute score\n",
      "Adding attribute sex\n",
      "========================== BN constructed ==========================\n",
      "================ Constructing Bayesian Network (BN) ================\n",
      "Adding ROOT race\n",
      "Adding attribute age\n",
      "Adding attribute sex\n",
      "Adding attribute score\n",
      "========================== BN constructed ==========================\n"
     ]
    }
   ],
   "source": [
    "# generate the datasets and calculate KL-divergence in this cell\n",
    "set_random_seed(seed)\n",
    "epsilons = [0.02, 0.04, 0.06, 0.08, 0.1]\n",
    "repeat = 10\n",
    "KL_value_B=[]\n",
    "KL_value_C=[]\n",
    "KL_value_D=[]\n",
    "\n",
    "for i, epsilon in enumerate(epsilons):\n",
    "    print(f'~~~ i={i}, epsilon={epsilon} ~~~')\n",
    "    kl_list_B=[]\n",
    "    kl_list_C=[]\n",
    "    kl_list_D=[]\n",
    "    for rep in range(repeat):\n",
    "      # Your code here\n",
    "      print(i,rep)\n",
    "      df_real_B = generate_data_B(real_data_file, output_data_size, epsilon=epsilon,seed=seed)\n",
    "      kl_list_B.append(kl_test(df_real,df_real_B,'race'))\n",
    "    \n",
    "      df_real_C = generate_data_C(real_data_file, output_data_size, epsilon=epsilon,seed=seed)     \n",
    "      kl_list_C.append(kl_test(df_real,df_real_C,'race'))\n",
    "      \n",
    "      df_real_D = generate_data_D(real_data_file, output_data_size, epsilon=epsilon,seed=seed)    \n",
    "      kl_list_D.append(kl_test(df_real,df_real_D,'race'))\n",
    "      \n",
    "    KL_value_B.append(kl_list_B)\n",
    "    KL_value_C.append(kl_list_C)\n",
    "    KL_value_D.append(kl_list_D)      \n",
    "      \n",
    "      "
   ]
  },
  {
   "cell_type": "markdown",
   "source": [
    "Create the box-and-whisker plots in the cell below."
   ],
   "metadata": {
    "id": "kMeBhq-ktwD_"
   }
  },
  {
   "cell_type": "code",
   "source": [
    "# Your code here\n",
    "def plotTable(values):\n",
    "  df=pd.DataFrame(values,index=['0.2','0.4','0.6','0.8','1.0']).T\n",
    "  print(df)\n",
    "  ax = sns.boxplot(data=df)\n",
    "\n"
   ],
   "metadata": {
    "id": "C_PSVo1dsl5O"
   },
   "execution_count": 35,
   "outputs": []
  },
  {
   "cell_type": "code",
   "source": [
    "plotTable(KL_value_B)"
   ],
   "metadata": {
    "colab": {
     "base_uri": "https://localhost:8080/",
     "height": 455
    },
    "id": "tx1CN-6SwDlf",
    "outputId": "7de87a40-b89e-42d7-a59e-8ce33e783988"
   },
   "execution_count": 36,
   "outputs": [
    {
     "output_type": "stream",
     "name": "stdout",
     "text": [
      "        0.2       0.4       0.6       0.8       1.0\n",
      "0  0.095209  0.022963  0.003080  0.006818  0.018380\n",
      "1  0.109611  0.017373  0.014061  0.002260  0.019374\n",
      "2  0.036830  0.014512  0.029020  0.009713  0.005590\n",
      "3  0.377320  0.005916  0.036841  0.010793  0.010267\n",
      "4  0.139700  0.150246  0.018034  0.015899  0.004757\n",
      "5  0.130478  0.063505  0.008684  0.041557  0.006648\n",
      "6  0.085260  0.008102  0.012875  0.006179  0.011632\n",
      "7  0.100543  0.003629  0.003811  0.031572  0.001097\n",
      "8  0.078075  0.027443  0.021213  0.009344  0.008979\n",
      "9  0.110134  0.155508  0.011834  0.005595  0.008587\n"
     ]
    },
    {
     "output_type": "display_data",
     "data": {
      "text/plain": [
       "<Figure size 432x288 with 1 Axes>"
      ],
      "image/png": "[encoded data removed]"
     },
     "metadata": {
      "needs_background": "light"
     }
    }
   ]
  },
  {
   "cell_type": "code",
   "source": [
    "plotTable(KL_value_C)\n"
   ],
   "metadata": {
    "colab": {
     "base_uri": "https://localhost:8080/",
     "height": 455
    },
    "id": "-wURCf7LwGFr",
    "outputId": "83fc51c3-af77-4c56-fe85-68454fa20edb"
   },
   "execution_count": 37,
   "outputs": [
    {
     "output_type": "stream",
     "name": "stdout",
     "text": [
      "        0.2       0.4       0.6       0.8       1.0\n",
      "0  0.540102  0.278587  0.121161  0.084951  0.221458\n",
      "1  0.163427  1.069898  0.340498  0.281909  0.091888\n",
      "2  0.387440  0.032118  0.170452  0.028944  0.010001\n",
      "3  0.191706  0.306869  0.020334  0.098221  0.220668\n",
      "4  0.131490  0.243610  0.011942  0.080509  0.064629\n",
      "5  0.315675  0.010966  0.011577  0.235295  0.155706\n",
      "6  0.697834  0.266542  0.321290  0.074843  0.183241\n",
      "7  0.377679  0.247269  0.345928  0.278102  0.048545\n",
      "8  0.545189  0.192505  0.229170  0.144966  0.060002\n",
      "9  0.173893  0.672569  0.006073  0.028561  0.210081\n"
     ]
    },
    {
     "output_type": "display_data",
     "data": {
      "text/plain": [
       "<Figure size 432x288 with 1 Axes>"
      ],
      "image/png": "[encoded data removed]"
     },
     "metadata": {
      "needs_background": "light"
     }
    }
   ]
  },
  {
   "cell_type": "code",
   "source": [
    "plotTable(KL_value_D)"
   ],
   "metadata": {
    "colab": {
     "base_uri": "https://localhost:8080/",
     "height": 455
    },
    "id": "LRDpXl3kwKYS",
    "outputId": "13e3640c-3f97-460d-eee7-e2f3e9bdfe32"
   },
   "execution_count": 38,
   "outputs": [
    {
     "output_type": "stream",
     "name": "stdout",
     "text": [
      "        0.2       0.4       0.6       0.8       1.0\n",
      "0  0.919121  0.557473  0.312757  0.317645  0.682845\n",
      "1  0.897389  0.649096  0.287881  0.688505  0.828864\n",
      "2  0.412594  0.637493  0.250722  0.781948  0.272283\n",
      "3  0.723836  0.917716  0.366718  0.938729  0.851789\n",
      "4  0.677428  0.975306  0.224983  0.832849  0.132635\n",
      "5  0.463358  0.449322  0.532965  0.676416  0.829805\n",
      "6  0.761288  0.557043  0.919411  0.138681  0.622167\n",
      "7  1.093321  0.174190  0.296712  0.446097  0.865545\n",
      "8  0.891347  0.356879  1.090478  0.360478  0.060160\n",
      "9  1.098579  0.278391  0.193828  0.219930  0.141518\n"
     ]
    },
    {
     "output_type": "display_data",
     "data": {
      "text/plain": [
       "<Figure size 432x288 with 1 Axes>"
      ],
      "image/png": "[encoded data removed]"
     },
     "metadata": {
      "needs_background": "light"
     }
    }
   ]
  }
 ],
 "metadata": {
  "colab": {
   "collapsed_sections": [],
   "name": "Copy of HW2_template_spring_2022_DS_UA_202",
   "provenance": [],
   "toc_visible": true
  },
  "kernelspec": {
   "display_name": "Python 3",
   "language": "python",
   "name": "python3"
  },
  "language_info": {
   "codemirror_mode": {
    "name": "ipython",
    "version": 3
   },
   "file_extension": ".py",
   "mimetype": "text/x-python",
   "name": "python",
   "nbconvert_exporter": "python",
   "pygments_lexer": "ipython3",
   "version": "3.7.1"
  }
 },
 "nbformat": 4,
 "nbformat_minor": 0
}