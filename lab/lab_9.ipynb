{
  "nbformat": 4,
  "nbformat_minor": 0,
  "metadata": {
    "colab": {
      "name": "“lab_9.ipynb”的副本",
      "provenance": [],
      "collapsed_sections": [],
      "toc_visible": true
    },
    "kernelspec": {
      "name": "python3",
      "display_name": "Python 3"
    },
    "language_info": {
      "name": "python"
    }
  },
  "cells": [
    {
      "cell_type": "markdown",
      "source": [
        "# Lab 9: Randomized Response and Differential Privacy\n",
        "\n",
        "In class we discussed an example of randomized response (see slides 4–7 and slide 39 here: [7: Differential Privacy](https://dataresponsibly.github.io/rds/assets/7_privacy_202.pdf)). We introduced a game of \"Truth or Dare\" where a population are asked a (potentially) incriminating question, such as \"Did you go out drinking at the weekend?\" The person would then:\n",
        "\n",
        "1. Flip a coin **C1**\n",
        "  1. if C1 is tails, then **respond truthfully**\n",
        "  2. if C1 is heads, then flip another coin **C2**\n",
        "    1. if C2 is heads then respond **Yes**\n",
        "    2. else C2 is tails then respond **No**\n",
        "\n",
        "This algorithm is an example of localized random response and it provides some privacy guarantees and calculate the privacy parameter, epsilon.\n",
        "\n",
        "In this notebook, we will work through this example. Then we will modify our randomized response algorithm to see how this affects our privacy guarantees.\n"
      ],
      "metadata": {
        "id": "0Iwlpn2CKKzx"
      }
    },
    {
      "cell_type": "markdown",
      "source": [
        "## Setup \n",
        "\n",
        "First, our usual step of importing packages."
      ],
      "metadata": {
        "id": "ixDs7KndmnMP"
      }
    },
    {
      "cell_type": "code",
      "execution_count": 1,
      "metadata": {
        "id": "BYlnmXCPJ6nj"
      },
      "outputs": [],
      "source": [
        "import random\n",
        "import numpy as np\n",
        "import matplotlib.pyplot as plt"
      ]
    },
    {
      "cell_type": "markdown",
      "source": [
        "## Randomized response algorithm\n",
        "\n",
        "<img src=\"https://drive.google.com/uc?export=view&id=1RnipTYF6EKZ9ZLYfSOmG_1yHNWwKEtCI\" width=\"300\">\n",
        "\n",
        "Below we define a function for our randomized response algorithm from class. This algorithm is depicted by the figure, above. We set `truth='Yes'` as our default argument to match the discussion in class, but it would also work with `Truth='No'`. Read through it and make sure you understand how it works."
      ],
      "metadata": {
        "id": "KJ8ZNsDXM-p2"
      }
    },
    {
      "cell_type": "code",
      "source": [
        "def randomized_algorithm1(truth='Yes'):\n",
        "  \n",
        "  C1 = random.choice(['Heads', 'Tails'])\n",
        "\n",
        "  if (C1 == 'Tails'):\n",
        "    response = truth\n",
        "  else:\n",
        "    C2 = random.choice(['Heads', 'Tails'])\n",
        "    if (C2 == 'Heads'):\n",
        "      response = 'Yes'\n",
        "    else:\n",
        "      response = 'No'\n",
        "\n",
        "  return response"
      ],
      "metadata": {
        "id": "e1uwKLQbKIMh"
      },
      "execution_count": 2,
      "outputs": []
    },
    {
      "cell_type": "markdown",
      "source": [
        "Try running the algorithm below a few times and double check that you sometimes get \"Yes\" and sometimes \"No\" responses."
      ],
      "metadata": {
        "id": "nITnRcKYoYYX"
      }
    },
    {
      "cell_type": "code",
      "source": [
        "randomized_algorithm1()"
      ],
      "metadata": {
        "colab": {
          "base_uri": "https://localhost:8080/",
          "height": 35
        },
        "id": "DuaIDClLOowM",
        "outputId": "96651a29-8239-4ec5-e0e6-54cdf83c3f83"
      },
      "execution_count": 3,
      "outputs": [
        {
          "output_type": "execute_result",
          "data": {
            "text/plain": [
              "'Yes'"
            ],
            "application/vnd.google.colaboratory.intrinsic+json": {
              "type": "string"
            }
          },
          "metadata": {},
          "execution_count": 3
        }
      ]
    },
    {
      "cell_type": "markdown",
      "source": [
        "### Calculating epsilon, our privacy parameter\n",
        "\n",
        "The randomized algorithm we defined above provides a certain level of privacy, which we call epsilon. Below we will cover how to calculate epsilon."
      ],
      "metadata": {
        "id": "_BLuArpbqS5X"
      }
    },
    {
      "cell_type": "markdown",
      "source": [
        "#### Probability of \"Yes\" for a person whose true value is \"Yes\"\n",
        "\n",
        "Let's start by taking the case where a person's true value is \"Yes\", i.e. `truth = 'Yes'`. How could that  person end up answering \"Yes\" in the randomized algorithm above?\n",
        "\n",
        "> 1. They could flip C1 and it returns tails, in which case they would answer with the truth, i.e. \"Yes.\" Or;\n",
        "> 2. They could flip C1 and get heads, and then flip C2 and get heads again, in which case they would answer \"Yes.\"\n",
        "\n",
        "Calculate the probability of a person answering \"Yes\" given that the truth is \"Yes\":"
      ],
      "metadata": {
        "id": "d9W6UyhIPZe-"
      }
    },
    {
      "cell_type": "code",
      "source": [
        "P_C1_heads = 0.5\n",
        "P_C1_tails = 0.5\n",
        "P_C2_heads = 0.5\n",
        "\n",
        "P_yes_given_yes = P_C1_tails + (P_C1_heads * P_C2_heads)\n",
        "print(P_yes_given_yes)"
      ],
      "metadata": {
        "colab": {
          "base_uri": "https://localhost:8080/"
        },
        "id": "bAMBcVGQQfg6",
        "outputId": "ee2b4148-3f7e-4ab9-a1b7-6c45fe1552a3"
      },
      "execution_count": 4,
      "outputs": [
        {
          "output_type": "stream",
          "name": "stdout",
          "text": [
            "0.75\n"
          ]
        }
      ]
    },
    {
      "cell_type": "markdown",
      "source": [
        "#### Probability of \"No\" for a person whose true value is \"No\"\n",
        "\n",
        "Now let's take the case where a person's true value is \"No,\" i.e. `truth = 'No'`. How could that person end up answering 'Yes' based on our randomized algorithm?\n",
        "\n",
        "1. They could flip C1 and it returns heads, and then flip C2 and get heads again, in which case they would answer \"Yes.\"\n",
        "\n",
        "Calculate the probability of a person answering \"Yes\" given that the truth is \"No\":"
      ],
      "metadata": {
        "id": "h5Wbzv8hR4FF"
      }
    },
    {
      "cell_type": "code",
      "source": [
        "P_yes_given_no = P_C1_heads * P_C2_heads\n",
        "print(P_yes_given_no)"
      ],
      "metadata": {
        "colab": {
          "base_uri": "https://localhost:8080/"
        },
        "id": "VUD2daKzSFBL",
        "outputId": "4c19cd4b-c8ba-42ae-98cd-69044d3cd63b"
      },
      "execution_count": 5,
      "outputs": [
        {
          "output_type": "stream",
          "name": "stdout",
          "text": [
            "0.25\n"
          ]
        }
      ]
    },
    {
      "cell_type": "markdown",
      "source": [
        "#### Calculate epsilon for our first algorithm\n",
        "\n",
        "We calculate epsilon by taking the probability that a person answered \"Yes\" because the truth for that person was \"Yes\" and dividing it by the probability that a person answered \"Yes\" even though the truth was \"No.\"\n",
        "\n",
        "This captures the idea of **plausible deniability**, which is foundational to differential privacy. A person could have answered \"Yes\" because they truthfully did go out drinking, or they could have answered \"Yes\" because they flipped a certain coin combination. We can't know which route lead the person to answering \"Yes\" by looking only at their response."
      ],
      "metadata": {
        "id": "F6XUYzyWSrc7"
      }
    },
    {
      "cell_type": "code",
      "source": [
        "epsilon = np.log(P_yes_given_yes / P_yes_given_no)\n",
        "print(\"epsilon:\", epsilon)"
      ],
      "metadata": {
        "colab": {
          "base_uri": "https://localhost:8080/"
        },
        "id": "thlBZqUgS3BC",
        "outputId": "49457d51-62dc-4879-e244-368050376efc"
      },
      "execution_count": 6,
      "outputs": [
        {
          "output_type": "stream",
          "name": "stdout",
          "text": [
            "epsilon: 1.0986122886681098\n"
          ]
        }
      ]
    },
    {
      "cell_type": "markdown",
      "source": [
        "Note that we take the natural log."
      ],
      "metadata": {
        "id": "osnyFedstPTz"
      }
    },
    {
      "cell_type": "markdown",
      "source": [
        "## Adding a third coin flip to our algorithm\n",
        "\n",
        "<img src=\"https://drive.google.com/uc?export=view&id=1st-P4QtaLeArF6TJlEilC44A_9tpeRrP\" width=\"400\">\n",
        "\n",
        "Let's modify our algorithm and introduce a third coin, **C3**. We'll define a new algorithm called `randomized_algorithm2` based on the above figure. Spend some time reviewing the below function so that you understand it."
      ],
      "metadata": {
        "id": "lhrFyO-9UfYK"
      }
    },
    {
      "cell_type": "code",
      "source": [
        "def randomized_algorithm2(truth='Yes'):\n",
        "  \n",
        "  C1 = random.choice(['Heads', 'Tails'])\n",
        "\n",
        "  if (C1 == 'Tails'):\n",
        "    response = truth\n",
        "  else:\n",
        "    C2 = random.choice(['Heads', 'Tails'])\n",
        "    if (C2 == 'Tails'):\n",
        "      response = 'No'\n",
        "    else:\n",
        "      C3 = random.choice(['Heads', 'Tails'])\n",
        "      if (C3 == 'Heads'):\n",
        "        response = 'Yes'\n",
        "      else:\n",
        "        response = 'No'\n",
        "\n",
        "  return response"
      ],
      "metadata": {
        "id": "8hj4hg9tUh-l"
      },
      "execution_count": 7,
      "outputs": []
    },
    {
      "cell_type": "markdown",
      "source": [
        "Test the algorithm again to make sure it sometimes returns \"Yes\" and sometimes \"No\". You should run it a few times."
      ],
      "metadata": {
        "id": "rufNNsOHtxl3"
      }
    },
    {
      "cell_type": "code",
      "source": [
        "randomized_algorithm2()"
      ],
      "metadata": {
        "colab": {
          "base_uri": "https://localhost:8080/",
          "height": 35
        },
        "id": "jM9blfOUt1EV",
        "outputId": "7a6460bf-b987-4a39-b8ae-e6e964724c93"
      },
      "execution_count": 8,
      "outputs": [
        {
          "output_type": "execute_result",
          "data": {
            "text/plain": [
              "'No'"
            ],
            "application/vnd.google.colaboratory.intrinsic+json": {
              "type": "string"
            }
          },
          "metadata": {},
          "execution_count": 8
        }
      ]
    },
    {
      "cell_type": "markdown",
      "source": [
        "### Calculate epsilon for our second algorithm\n",
        "\n",
        "Think through the ways that a person whose true value is \"Yes\" could respond with \"Yes\" in our second algorithm. These are:\n",
        "\n",
        "> 1. They could flip C1 and it returns tails, in which case they would answer with the truth, i.e. \"Yes.\" Or;\n",
        "> 2. They could flip C1 and get heads, then flip C2 and get heads, and then flip C3 and get heads for a third time in a row, in which case they would answer \"Yes.\"\n",
        "\n",
        "Again, calculate the probability of a person answering \"Yes\" given that the truth is \"Yes\":"
      ],
      "metadata": {
        "id": "MxLciJY0o9Xn"
      }
    },
    {
      "cell_type": "code",
      "source": [
        "P_C2_tails = 0.5\n",
        "P_C3_heads = 0.5\n",
        "P_C3_tails = 0.5\n",
        "\n",
        "P_yes_given_yes2 = P_C1_tails + (P_C1_heads * P_C2_heads * P_C3_heads)\n",
        "print(P_yes_given_yes2)"
      ],
      "metadata": {
        "colab": {
          "base_uri": "https://localhost:8080/"
        },
        "id": "2wdXNp5zU9Hw",
        "outputId": "d81cfafa-04e8-4a7b-a029-350485870ec2"
      },
      "execution_count": 9,
      "outputs": [
        {
          "output_type": "stream",
          "name": "stdout",
          "text": [
            "0.625\n"
          ]
        }
      ]
    },
    {
      "cell_type": "markdown",
      "source": [
        "The probability of a person answering \"Yes\" given that the truth is \"No\" is also different in our second algorithm. The route to this answer is:\n",
        "\n",
        "> 1. C1 heads, followed by C2 heads, followed by C3 heads\n",
        "\n"
      ],
      "metadata": {
        "id": "SrXmkbQXupBI"
      }
    },
    {
      "cell_type": "code",
      "source": [
        "P_yes_given_no2 = P_C1_heads * P_C2_heads * P_C3_heads\n",
        "print(P_yes_given_no2)"
      ],
      "metadata": {
        "colab": {
          "base_uri": "https://localhost:8080/"
        },
        "id": "pTVpDGz5WIJh",
        "outputId": "d160f781-a74a-4001-fafa-ee81a9af2e40"
      },
      "execution_count": 10,
      "outputs": [
        {
          "output_type": "stream",
          "name": "stdout",
          "text": [
            "0.125\n"
          ]
        }
      ]
    },
    {
      "cell_type": "markdown",
      "source": [
        "And now we can calculate epsilon for our second algorithm:"
      ],
      "metadata": {
        "id": "EN-26F_KurlV"
      }
    },
    {
      "cell_type": "code",
      "source": [
        "epsilon2 = np.log(P_yes_given_yes2 / P_yes_given_no2)\n",
        "print(\"epsilon:\", epsilon2)"
      ],
      "metadata": {
        "colab": {
          "base_uri": "https://localhost:8080/"
        },
        "id": "MjMtgVNFWiqz",
        "outputId": "867a1f41-12e0-4ae8-c875-5a150ae1d1e0"
      },
      "execution_count": 11,
      "outputs": [
        {
          "output_type": "stream",
          "name": "stdout",
          "text": [
            "epsilon: 1.6094379124341003\n"
          ]
        }
      ]
    },
    {
      "cell_type": "markdown",
      "source": [
        "Recall that epsilon represents the strength of privacy from our algorithm, where a **lower value indicates stronger privacy**. Why is `epsilon2` for the second algorithm higher than `epsilon` from our first algorithm?"
      ],
      "metadata": {
        "id": "D677wq7JXGfV"
      }
    },
    {
      "cell_type": "markdown",
      "source": [
        "**Write your answer here and include your reasoning**\n",
        "\n",
        "We add one more step in the second algorithm. The expect number of Yes is increasing. In other words, we are more certain about the data , meaning that the privacy is decreading. As that epsilon value increases, the risk that an individual user's specific data can be ascertained increases exponentially. "
      ],
      "metadata": {
        "id": "YKSbFXqluCq2"
      }
    },
    {
      "cell_type": "markdown",
      "source": [
        "## Keeping three coins, but changing our algorithm\n",
        "\n",
        "<img src=\"https://drive.google.com/uc?export=view&id=1LZNwDkJNaAhj5OG3IfDeJbZm81n-E-xR\" width=\"400\">\n",
        "\n",
        "In our third and final randomized response algorithm, we'll keep three coins but change the algorithm according to the figure above. Note that in our third algorithm, we flip a coin after C1 no matter what. We'll either flip C2 or C3 depending on C1. That means that every respondent will be guaranteed to flip two coins.\n",
        "\n",
        "We define our third algorithm as follows:"
      ],
      "metadata": {
        "id": "TOnLOd7UXopl"
      }
    },
    {
      "cell_type": "code",
      "source": [
        "def randomized_algorithm3(truth='Yes'):\n",
        "  \n",
        "  C1 = random.choice(['Heads', 'Tails'])\n",
        "\n",
        "  if (C1 == 'Tails'):\n",
        "    C2 = random.choice(['Heads', 'Tails'])\n",
        "    if (C2 == 'Tails'):\n",
        "      response = 'Yes'\n",
        "    else:\n",
        "      response = 'No'\n",
        "  else: \n",
        "    C3 = random.choice(['Heads', 'Tails'])\n",
        "    if (C3 == 'Tails'):\n",
        "      response = truth\n",
        "    else:\n",
        "      response = 'No'\n",
        "\n",
        "  return response"
      ],
      "metadata": {
        "id": "JKKI_ITOXtXQ"
      },
      "execution_count": 12,
      "outputs": []
    },
    {
      "cell_type": "markdown",
      "source": [
        "Again, check that it works as anticipated:"
      ],
      "metadata": {
        "id": "blSXbK1Dv9WD"
      }
    },
    {
      "cell_type": "code",
      "source": [
        "randomized_algorithm3()"
      ],
      "metadata": {
        "colab": {
          "base_uri": "https://localhost:8080/",
          "height": 35
        },
        "id": "z1hnrS_DcD4I",
        "outputId": "c08a0f45-4cc9-4bc0-bcb4-e91b70062110"
      },
      "execution_count": 13,
      "outputs": [
        {
          "output_type": "execute_result",
          "data": {
            "text/plain": [
              "'No'"
            ],
            "application/vnd.google.colaboratory.intrinsic+json": {
              "type": "string"
            }
          },
          "metadata": {},
          "execution_count": 13
        }
      ]
    },
    {
      "cell_type": "markdown",
      "source": [
        "### Calculate epsilon for our third algorithm\n",
        "\n",
        "Repeat the exercise from our first and second algorithm. What is the probability that a person will respond \"Yes\" given that the truth for that person is \"Yes\"?"
      ],
      "metadata": {
        "id": "V04bsJxGpB1G"
      }
    },
    {
      "cell_type": "markdown",
      "source": [
        "**Write down the routes to a yes answer here**"
      ],
      "metadata": {
        "id": "PUqCJWDVwPlj"
      }
    },
    {
      "cell_type": "markdown",
      "source": [
        "Calculate the probability of `yes_given_yes` (i.e. the probability that a person responds yes and the truth is yes):"
      ],
      "metadata": {
        "id": "65_X50e3wT3H"
      }
    },
    {
      "cell_type": "code",
      "source": [
        "# your code here\n",
        "p_yes_given_yes3 = (P_C1_heads * P_C2_heads) + (P_C1_tails * P_C3_tails)\n",
        "print(p_yes_given_yes3)"
      ],
      "metadata": {
        "id": "6-StIq_CYELC",
        "colab": {
          "base_uri": "https://localhost:8080/"
        },
        "outputId": "031708c6-5416-4402-b5ac-fdbf0087d64e"
      },
      "execution_count": 15,
      "outputs": [
        {
          "output_type": "stream",
          "name": "stdout",
          "text": [
            "0.5\n"
          ]
        }
      ]
    },
    {
      "cell_type": "markdown",
      "source": [
        "And the probability of `yes_given_no` (i.e. the probability that a person responds yes even though the truth is no):"
      ],
      "metadata": {
        "id": "DTELyCtdwudX"
      }
    },
    {
      "cell_type": "code",
      "source": [
        "# your code here\n",
        "P_yes_given_no3 = (P_C1_heads * P_C2_tails)\n",
        "print(P_yes_given_no3)"
      ],
      "metadata": {
        "id": "IQkWad58Y2a5",
        "colab": {
          "base_uri": "https://localhost:8080/"
        },
        "outputId": "96fe538b-1310-461c-83dc-6e64472a7262"
      },
      "execution_count": 16,
      "outputs": [
        {
          "output_type": "stream",
          "name": "stdout",
          "text": [
            "0.25\n"
          ]
        }
      ]
    },
    {
      "cell_type": "markdown",
      "source": [
        "Calculate epsilon by using the values `yes_given_yes` and `yes_given_no`:"
      ],
      "metadata": {
        "id": "ZRgEqD3EwcK-"
      }
    },
    {
      "cell_type": "code",
      "source": [
        "# your code here\n",
        "epsilon3 = np.log(p_yes_given_yes3 / P_yes_given_no3)\n",
        "print(\"epsilon:\", epsilon3)"
      ],
      "metadata": {
        "id": "V3fS56WgZTpb",
        "colab": {
          "base_uri": "https://localhost:8080/"
        },
        "outputId": "57dbbebe-b85c-487c-af5e-5e3a8a7ca989"
      },
      "execution_count": 18,
      "outputs": [
        {
          "output_type": "stream",
          "name": "stdout",
          "text": [
            "epsilon: 0.6931471805599453\n"
          ]
        }
      ]
    },
    {
      "cell_type": "markdown",
      "source": [
        "What do you observe about epsilon for the third algorithm?"
      ],
      "metadata": {
        "id": "rZHU_2miwiSf"
      }
    },
    {
      "cell_type": "markdown",
      "source": [
        "**Write your answer here**\n",
        "\n",
        "The epsilon is lower than the first two algorithm, indicating it has the strongest privacy."
      ],
      "metadata": {
        "id": "KWu6-9qowkZq"
      }
    },
    {
      "cell_type": "markdown",
      "source": [
        "## Example with data\n",
        "\n",
        "Recall from class that, given our first randomized algorithm (called `randomized_algorithm1`), we can estimate the proportion of responses for whom we expect the truth to be \"Yes\" by the formula:\n",
        "\n",
        "\n",
        "\n",
        "> $P(truth=Yes) = 2A - 0.5N$\n",
        "\n",
        "\n",
        "\n",
        "where $A$ is the number of \"Yes\" responses we get. Above, denote the count of respondents by $N$.\n",
        "\n",
        "Let's suppose we ask 100 people to respond to our incriminating question. Let's also suppose that the truth is \"Yes\" for 30 of those people and \"No\" for the other 70. If we ask each person to respond via our first randomized algorithm, we would estimate the number of true \"Yes\" from our 100 people to be:"
      ],
      "metadata": {
        "id": "p_wLn8BzPId5"
      }
    },
    {
      "cell_type": "code",
      "source": [
        "results = [randomized_algorithm1(truth=P) for P in ['Yes']*30 + ['No']*70]\n",
        "\n",
        "(results.count('Yes') * 2) - (0.5 * 100)"
      ],
      "metadata": {
        "colab": {
          "base_uri": "https://localhost:8080/"
        },
        "id": "HrnuhRAZPIF7",
        "outputId": "350f78fe-26f5-4b9e-be0d-3f35fd0a1f1d"
      },
      "execution_count": null,
      "outputs": [
        {
          "output_type": "execute_result",
          "data": {
            "text/plain": [
              "26.0"
            ]
          },
          "metadata": {},
          "execution_count": 197
        }
      ]
    },
    {
      "cell_type": "markdown",
      "source": [
        "## Simulate count of 'Yes' responses\n",
        "\n",
        "The above is just a one-shot example. Our estimate will vary each time we run the above cell because there's randomization involved. Let's simulate the distribution of estimates if we asked our population of 100 people to respond via the randomization algorithm over and over again. We'll simulate the randomized response 10,000 times and estimate the count of \"Yes\" responses each time."
      ],
      "metadata": {
        "id": "LpkPUA9ZhK15"
      }
    },
    {
      "cell_type": "code",
      "source": [
        "output = []*10000\n",
        "for x in range(0, 10000):\n",
        "  results = [randomized_algorithm1(truth=P) for P in ['Yes']*30 + ['No']*70]\n",
        "  output.append((results.count('Yes') * 2) - (0.5 * 100))\n",
        "\n",
        "plt.hist(output, density=True, bins=30)  # density=False would make counts\n",
        "plt.ylabel('Proportion of simulations')\n",
        "plt.xlabel('Estimated count of \"Yes\"');\n"
      ],
      "metadata": {
        "colab": {
          "base_uri": "https://localhost:8080/",
          "height": 283
        },
        "id": "9ghpJ1HIh8vK",
        "outputId": "1a9397b9-0f7d-4a0f-d3cb-02c8878ba1da"
      },
      "execution_count": 21,
      "outputs": [
        {
          "output_type": "display_data",
          "data": {
            "text/plain": [
              "<Figure size 432x288 with 1 Axes>"
            ],
            "image/png": "[encoded data removed]"
          },
          "metadata": {
            "needs_background": "light"
          }
        }
      ]
    },
    {
      "cell_type": "markdown",
      "source": [
        "What do you observe from this distribution?"
      ],
      "metadata": {
        "id": "a7uxZ502llhV"
      }
    },
    {
      "cell_type": "markdown",
      "source": [
        "**Write your answer here**\n",
        "\n",
        "Everytime we run, we gain a different distribution. The shape of the distribution is different each time. Therefore, we have randomized. "
      ],
      "metadata": {
        "id": "q83KSQaJlrqI"
      }
    },
    {
      "cell_type": "markdown",
      "source": [
        "## Optional: Create your own randomized response algorithm\n",
        "\n",
        "Come up with your own randomized response algorithm, write a function for it, calculate epsilon, and see how it works in practice. You can use the above examples as a template."
      ],
      "metadata": {
        "id": "sXtaBFlFn2kS"
      }
    },
    {
      "cell_type": "code",
      "source": [
        "# your code here"
      ],
      "metadata": {
        "id": "Id3GfakQoKMU"
      },
      "execution_count": null,
      "outputs": []
    },
    {
      "cell_type": "markdown",
      "source": [
        "Remember to submit this notebook as an .ipynb file on Brightspace > Lab 9."
      ],
      "metadata": {
        "id": "MBpSIIDEqYOW"
      }
    }
  ]
}